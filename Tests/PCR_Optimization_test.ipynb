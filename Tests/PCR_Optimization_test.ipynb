{
  "nbformat": 4,
  "nbformat_minor": 0,
  "metadata": {
    "colab": {
      "provenance": [],
      "toc_visible": true
    },
    "kernelspec": {
      "name": "python3",
      "display_name": "Python 3"
    },
    "language_info": {
      "name": "python"
    }
  },
  "cells": [
    {
      "cell_type": "markdown",
      "source": [
        "**Test Case #1: (Scenario)**\n",
        "Stacy is a grad student who needs to do PCR to lift a gene from one plasmid to another. She is currently studying the glycolysis enzyme aldolase. \n",
        "\n",
        "Stacy is unsure which enzyme to use. She wants to compare cost and make sure she uses the one most compatable with her setup (annealing temps). \n",
        "\n",
        "Things we want to consider!! \n",
        "\n",
        "*   Annealing temp \n",
        "*   Extension time (gene size)\n",
        "*   Cost per reaction\n",
        "\n",
        "*   Required DNA concentration\n",
        "\n",
        "\n",
        "\n",
        "\n",
        "\n"
      ],
      "metadata": {
        "id": "SwAIsOPKdRaL"
      }
    },
    {
      "cell_type": "markdown",
      "source": [
        "**User Input**\n",
        "\n",
        "*   Target gene sequence \n",
        "*   Forward primer sequence\n",
        "*   Reverse primer sequence \n",
        "\n",
        "**Program Output** \n",
        "\n",
        "\n",
        "*   Ranked enzyme list based on annealing temp\n",
        "*   Ranked enzyme list based on cost \n",
        "\n",
        "\n",
        "*   Or we could also do a profile for each enzyme, and then choose an overall winner at the end\n",
        "\n",
        "\n",
        "\n",
        "\n",
        "\n",
        "\n",
        "\n",
        "\n",
        "\n",
        "\n",
        "\n",
        "\n",
        "\n",
        "\n"
      ],
      "metadata": {
        "id": "WexHmEWEvkDc"
      }
    },
    {
      "cell_type": "markdown",
      "source": [
        "**Enzymes** (feel free to add any you use lol) \n",
        "\n",
        "\n",
        "*   Thermofisher SuperFi II\n",
        "*   NEB Q5\n",
        "\n",
        "*   *BioRad iProof\n",
        "\n",
        "\n",
        "\n",
        "\n",
        "\n"
      ],
      "metadata": {
        "id": "-u426Lno66M2"
      }
    },
    {
      "cell_type": "markdown",
      "source": [
        "# To Do List"
      ],
      "metadata": {
        "id": "DelHJDEv-EAQ"
      }
    },
    {
      "cell_type": "markdown",
      "source": [
        "*Always using the upper bound for time if there is a range \n",
        "*We could always consider  yield **bold text**\n",
        "\n",
        "*   Finish iProof \n",
        "*   Do NEB\n",
        "\n",
        "*   \"consolidate\" into user input and program output \n",
        "\n",
        "\n",
        "*   Upload to github \n",
        "*   Making readme file \n",
        "\n",
        "*   Finish Component Specification\n",
        "*   Make the prezi\n",
        "\n",
        "\n",
        "\n",
        "\n",
        "\n",
        "*Extras: \n",
        "*   Yield simulation \n",
        "*   Add more enzymes "
      ],
      "metadata": {
        "id": "LdiMaLca18jC"
      }
    },
    {
      "cell_type": "code",
      "source": [
        "class pcr(object): \n",
        "  def __init__ (self, gene, forward_primer, reverse_primer, template_type = \"plasmid\", enzymes = [], factor = \"cost\"): \n",
        "    self.sequence = gene\n",
        "    self.length = len(gene)\n",
        "    self.factor = factor\n",
        "    self.template_type = template_type\n",
        "    self.fp = forward_primer\n",
        "    self.rp = reverse_primer\n",
        "\n",
        "# Tests\n",
        "test = pcr(\"agctgctgaaacccgggtttaatcgggddd\", \"atggagacagacacactcctgctatgg\", \"acacgtctgccgaggctctg\", \"genomic\")  # made changes to the init code and made plasmids defult \n",
        "assert(test.fp == \"atggagacagacacactcctgctatgg\")\n",
        "assert(test.rp == \"acacgtctgccgaggctctg\")\n",
        "assert(test.length == len(\"agctgctgaaacccgggtttaatcgggddd\"))\n",
        "print(\"OK!\")"
      ],
      "metadata": {
        "id": "JUa3zpKt7tNV",
        "colab": {
          "base_uri": "https://localhost:8080/"
        },
        "outputId": "4386070b-b578-4208-a916-b970f9e46825"
      },
      "execution_count": 55,
      "outputs": [
        {
          "output_type": "stream",
          "name": "stdout",
          "text": [
            "OK!\n"
          ]
        }
      ]
    },
    {
      "cell_type": "markdown",
      "source": [
        "#### Test Cases"
      ],
      "metadata": {
        "id": "lddY0C06kjRa"
      }
    },
    {
      "cell_type": "code",
      "source": [
        "# These genes and primers are compatible\n",
        "gene = \"atggagacagacacactcctgctatgggtactgctgctctgggttccaggttccactggtgacacaagtttgtacaaaaaagttggcaccaagtcgatcctagatggccttgcagataccaccttccgcaccatcaccactgacctcctgtacgtgggctcaaatgacattcagtacgaagacatcaaaggtgacatggcatccaaattagggtacttcccacagaaattccctttaacttcctttaggggaagtcccttccaagagaagatgactgcgggagacaacccccagctagtcccagcagaccaggtgaacattacagaattttacaacaagtctctctcgtccttcaaggagaatgaggagaacatccagtgtggggagaacttcatggacatagagtgtttcatggtcctgaaccccagccagcagctggccattgcagtcctgtccctcacgctgggcaccttcacggtcctggagaacctcctggtgctgtgcgtcatcctccactcccgcagcctccgctgcaggccttcctaccacttcatcggcagcctggcggtggcagacctcctggggagtgtcatttttgtctacagcttcattgacttccacgtgttccaccgcaaagatagccgcaacgtgtttctgttcaaactgggtggggtcacggcctccttcactgcctccgtgggcagcctgttcctcacagccatcgacaggtacatatccattcacaggcccctggcctataagaggattgtcaccaggcccaaggccgtggtggcgttttgcctgatgtggaccatagccattgtgatcgccgtgctgcctctcctgggctggaactgcgagaaactgcaatctgtttgctcagacattttcccacacattgatgaaacctacctgatgttctggatcggggtcaccagcgtactgcttctgttcatcgtgtatgcgtacatgtatattctctggaaggctcacagccacgccgtccgcatgattcagcgtaccgacgcgctggacctggaggagggaggaaacgtctatatcaaggccgacaagcagaagaacggcatcaaggcgaacttctgcatccgccacaacatcgaggacggcggcgtgcagctcgcctaccactaccagcagaacacccccatcggcgacggccccgtgctgctgcccgacaaccactacctgagcgtgcagtccaaactttcgaaagaccccaacgagaagcgcgatcacatggtcctgctggagttcgtgaccgccgccgggatcactttcggcatggacgagctgtacaagggcggtaccggagggagcatggtgagaaagggcgaggagctgttcaccggggtggtgcccatcctggtcgagctggacggcgacgtaaacggccacaagttcagcgtgggcggcgagggtgagggcgatgccaccgttggcaagctgaccctgaagttcatctgcaccaccggcaagctgcccgtgccctggcccaccctcgtgaccaccctgacctacggcgtgcagtgcttcagccgctaccccgaccacatgaagcagcacgacttcttcaagtccgccatgcccgaaggctacatccaggagcgcaccatcttcttcaaggacgacggcaactacaagacccgcgccgaggtgaagttcgagggcgacaccctggtgaaccgcatcgagctgaagggcatcgacttcaaggaggacggcaacatcctggggcacaagctggagtacaacaccggagcagcagcacgctggcgcgggcggcgcatggacattaggttagccaagaccctggtcctgatcctggtggtgttgatcatctgctggggccctctgcttgcaatcatggtgtatgatgtctttgggaagatgaacaagctcattaagacggtgtttgcattctgcaccatgctctgcctgctgaactccaccgtgaaccccatcatctatgctctgaggagtaaggacctgcgacacgctttccggagcatgtttccctcttgtgaaggcactgcgcagcctctggataacagcatgggggactcggactgcctgcacaaacacgcaaacaatgcagccagtgttcacagggccgcagaaagctgcatcaagagcacggtcaagattgccaaggtaaccatgtctgtgtccacagacacgtctgccgaggctctg\"\n",
        "forward_primer = \"atggagacagacacactcctgctatgg\"\n",
        "reverse_primer = \"cagagcctcggcagacgtgt\""
      ],
      "metadata": {
        "id": "lA21TMyKNLDP"
      },
      "execution_count": 56,
      "outputs": []
    },
    {
      "cell_type": "code",
      "source": [
        "# Sourced from internet | Gene: \"https://www.bioinformatics.org/sms2/random_dna.html\" , Forward primer & Reverse Primer: \"https://www.ncbi.nlm.nih.gov/tools/primer-blast/index.cgi\"\n",
        "gene1 = \"acggagatttcccccttcctagttccctaatggataagatgtttaagatgttcaaacaaggatattcactgtgccagccctgtggtcgggaagtcgaata\"\n",
        "forward_primer1 = \"ACGGAGATTTCCCCCTTCCTA\" # binds to complement templete | -> direction\n",
        "reverse_primer1 = \"TATTCGACTTCCCGACCACAG\" # binds to original templete | reverse primer then <- direction"
      ],
      "metadata": {
        "id": "lSECTzOyP5Ei"
      },
      "execution_count": 57,
      "outputs": []
    },
    {
      "cell_type": "code",
      "source": [
        "# Sourced from internet positions are different \n",
        "gene0 = \"caatatggtgagcaatcttttgctcttggggattgaccacagtcgtcgacgcgatgcttgccctagtaagcttggcgtacaattacaagtgataagaggt\"\n",
        "forward_primer0 = \"GAGCAATCTTTTGCTCTTGGGG\" \n",
        "reverse_primer0 = \"TACGCCAAGCTTACTAGGGC\""
      ],
      "metadata": {
        "id": "Z8s3eeJuJxQt"
      },
      "execution_count": 58,
      "outputs": []
    },
    {
      "cell_type": "markdown",
      "source": [
        "#### Completed Functions"
      ],
      "metadata": {
        "id": "Fbvc9vj0Koyk"
      }
    },
    {
      "cell_type": "code",
      "source": [
        "def countDNAbase(gene): \n",
        "  \"\"\"\n",
        "  Counts the number of each DNA base present in a sequence\n",
        "\n",
        "  Parameters\n",
        "  ----------\n",
        "  dna: input gene \n",
        "\n",
        "  Returns\n",
        "  ----------\n",
        "  The number of each base \n",
        "  GC content : str\n",
        "\n",
        "  \"\"\"\n",
        "  a_count = 0\n",
        "  c_count = 0\n",
        "  g_count = 0\n",
        "  t_count = 0\n",
        "  for char in gene: \n",
        "    if char == \"a\": \n",
        "      a_count += 1 \n",
        "    if char == \"c\": \n",
        "      c_count += 1 \n",
        "    if char == \"g\": \n",
        "      g_count += 1 \n",
        "    if char == \"t\": \n",
        "      t_count += 1\n",
        "  gc_content = 100*(g_count + c_count)/(g_count + c_count + a_count + t_count)\n",
        "  return \"The GC Content is\",gc_content, \"%\"\n",
        "\n",
        "# Tests\n",
        "assert(countDNAbase(\"aagc\") == ('The GC Content is', 50.0, '%'))\n",
        "print(\"OK\")"
      ],
      "metadata": {
        "id": "obV0xJ5trJl_",
        "colab": {
          "base_uri": "https://localhost:8080/"
        },
        "outputId": "ff314d5a-e889-4bc7-c05e-254dda40f8d0"
      },
      "execution_count": 59,
      "outputs": [
        {
          "output_type": "stream",
          "name": "stdout",
          "text": [
            "OK\n"
          ]
        }
      ]
    },
    {
      "cell_type": "code",
      "source": [
        "def checkPrimerGeneCompatability(gene, forward_primer, reverse_primer, startr = 0, stopr = 0 , startf = 0, stopf = 0): \n",
        "  \"\"\"\n",
        "  Check the forward and reverse primer's compatibility to the gene/sequence.\n",
        "  If the start positions are not at the begining on the gene you can enter the \n",
        "  start and stop positions in acordance with Primer-blast\n",
        "  \n",
        "  Parameters\n",
        "  ----------\n",
        "  gene: str\n",
        "  forward_primer: str \n",
        "  reverse_primer: str\n",
        "  startr: int\n",
        "  stopr: int\n",
        "  startf: int\n",
        "  stopf: int\n",
        "  \n",
        "  Returns\n",
        "  -------\n",
        "  A statment on primer compatibility : str\n",
        "  \"\"\"\n",
        "  # Preparing inputs \n",
        "  gene = gene.lower()\n",
        "  forward_primer = forward_primer.lower()\n",
        "  reverse_primer = reverse_primer.lower()\n",
        "\n",
        "  # Create complement squence for comparison with forward_primer\n",
        "  complement = gene.upper().replace(\"A\", \"t\").replace(\"C\", \"g\").replace(\"T\", \"a\").replace(\"G\", \"c\")\n",
        "\n",
        "  # Locating the start and stop pointsoption\n",
        "  if startr == 0 and stopr == 0:\n",
        "    gene_reverse = gene[-len(reverse_primer):]\n",
        "  else:\n",
        "    gene_reverse = gene[stopr-1:startr]\n",
        "  if startf == 0 and stopf == 0:\n",
        "    gene_forward = complement[:len(forward_primer)]\n",
        "  else:\n",
        "    gene_forward = complement[startf-1:stopf]\n",
        "\n",
        "  # Create gene comparison points\n",
        "  gene_reverse = gene_reverse[::-1] # Reverse Primers are entered in Reverse so this is ment to flip the gene to compare\n",
        "\n",
        "  # Ensure gene and primer compatibility\n",
        "  position_gene = 0\n",
        "  Primer1 = 0\n",
        "  Primer2 = 0\n",
        "  for base_gene in gene_forward:\n",
        "    if base_gene == \"a\" and forward_primer[position_gene] == \"t\":\n",
        "      position_gene += 1\n",
        "      continue\n",
        "    elif base_gene == \"t\" and forward_primer[position_gene] == \"a\":\n",
        "      position_gene += 1\n",
        "      continue\n",
        "    elif base_gene == \"c\" and forward_primer[position_gene] == \"g\":\n",
        "      position_gene += 1\n",
        "      continue\n",
        "    elif base_gene == \"g\" and forward_primer[position_gene] == \"c\":\n",
        "      position_gene += 1\n",
        "      continue\n",
        "    else: \n",
        "      Primer1 = 1\n",
        "      break\n",
        "      \n",
        "  position_gene = 0\n",
        "  for base_gene in gene_reverse:\n",
        "    if base_gene == \"a\" and reverse_primer[position_gene] == \"t\":\n",
        "      position_gene += 1\n",
        "      continue\n",
        "    elif base_gene == \"t\" and reverse_primer[position_gene] == \"a\":\n",
        "      position_gene += 1\n",
        "      continue\n",
        "    elif base_gene == \"c\" and reverse_primer[position_gene] == \"g\":\n",
        "      position_gene += 1\n",
        "      continue\n",
        "    elif base_gene == \"g\" and reverse_primer[position_gene] == \"c\":\n",
        "      position_gene += 1\n",
        "      continue\n",
        "    else: \n",
        "      Primer2 = 1\n",
        "      break\n",
        "      \n",
        "  if Primer1 + Primer2 == 2:\n",
        "    return (\"Both Primers and gene are incompatible\")\n",
        "  elif Primer1 == 1:\n",
        "    return (\"Forward Primer and gene are incompatible\")   \n",
        "  elif Primer2 == 1:\n",
        "    return (\"Reverse Primer and gene are incompatible\")\n",
        "  else:\n",
        "    return (\"Primers and Gene are compatible\")\n",
        "\n",
        "# Test\n",
        "assert(checkPrimerGeneCompatability(gene, forward_primer, reverse_primer) == \"Primers and Gene are compatible\")\n",
        "assert(checkPrimerGeneCompatability(gene1, forward_primer1, reverse_primer1) == \"Primers and Gene are compatible\")\n",
        "assert(checkPrimerGeneCompatability(gene0, forward_primer0, reverse_primer0, startr = 79, stopr = 60 , startf = 10, stopf = 31) == \"Primers and Gene are compatible\")\n",
        "print(\"OK\")"
      ],
      "metadata": {
        "colab": {
          "base_uri": "https://localhost:8080/"
        },
        "id": "anK_u9RkJ7ZJ",
        "outputId": "0833cc4e-1286-4194-b983-2f9125c52c87"
      },
      "execution_count": 60,
      "outputs": [
        {
          "output_type": "stream",
          "name": "stdout",
          "text": [
            "OK\n"
          ]
        }
      ]
    },
    {
      "cell_type": "code",
      "source": [
        "#This one uses Modified Bresluaer Values for Phusion \n",
        "#Paper: https://academic.oup.com/bioinformatics/article/21/6/711/199347\n",
        "def meltingTemperaturePhusion(seq): \n",
        "  \"\"\"\n",
        "  checks primer melting temperature (Tm)\n",
        "  Adapted from Sigma Aldrich protocol: https://www.sigmaaldrich.com/US/en/technical-documents/protocol/genomics/pcr/oligos-melting-temp\n",
        "  Santa Lucia calculations\n",
        "  Tm = temp where 50% of DNA is melted, and 50% of DNA is double stranded\n",
        "\n",
        "  Parameters: \n",
        "  ------------\n",
        "  seq : Primer sequnce as a string\n",
        "\n",
        "  Returns: \n",
        "  ------------\n",
        "  tm : int\n",
        "    DNA melting temperature in degrees celsius\n",
        "\n",
        "  \"\"\"\n",
        "  import math as math \n",
        "  H = 0 \n",
        "  S = 0 \n",
        "\n",
        "  for x in range(0,len(seq)+1): \n",
        "    check = str(seq[x:x+2]).lower()\n",
        " \n",
        "    if check == \"aa\" or check  == \"tt\": \n",
        "      H += -9.1\n",
        "      S += -0.0240\n",
        "\n",
        "    elif check == \"at\": \n",
        "      H += -8.6\n",
        "      S += -0.0239\n",
        "\n",
        "    elif check == \"ta\": \n",
        "      H += -6.0\n",
        "      S += -0.0169\n",
        "\n",
        "    elif check == \"ca\" or check == \"tg\": \n",
        "      H += -5.8\n",
        "      S += -0.0129\n",
        "\n",
        "    elif check == \"gt\" or check == \"ac\": \n",
        "      H += -6.5 \n",
        "      S += -0.0173\n",
        "\n",
        "    elif check == \"ct\" or check == \"ag\": \n",
        "      H += -7.8 \n",
        "      S += -0.0208\n",
        "\n",
        "    elif check == \"ga\" or check == \"tc\": \n",
        "      H += -5.6 \n",
        "      S += -0.0135\n",
        "\n",
        "    elif check == \"cg\": \n",
        "      H += -11.9\n",
        "      S += -0.0278\n",
        "\n",
        "    elif check == \"gc\": \n",
        "      H += -11.1\n",
        "      S += -0.0267\n",
        "\n",
        "    elif check == \"gg\" or check == \"cc\": \n",
        "      H += -11.0\n",
        "      S += -0.0266\n",
        "\n",
        "  tm = (H/(-0.0108+S+0.00199*math.log(0.0000005/4)))-273.15+16.6*math.log10(0.05)\n",
        "  return tm\n",
        "\n",
        "#Test: \n",
        "assert(float(meltingTemperaturePhusion(\"atggagacagacacactcctgctatgg\")))\n",
        "print(\"OK\")"
      ],
      "metadata": {
        "colab": {
          "base_uri": "https://localhost:8080/"
        },
        "id": "pmvOJjTD3eRQ",
        "outputId": "1a9d37de-e92d-42e4-c9ac-ba36137dff95"
      },
      "execution_count": 79,
      "outputs": [
        {
          "output_type": "stream",
          "name": "stdout",
          "text": [
            "OK\n"
          ]
        }
      ]
    },
    {
      "cell_type": "markdown",
      "source": [
        "## Functions under conrtuction"
      ],
      "metadata": {
        "id": "mait3Mc_K0jn"
      }
    },
    {
      "cell_type": "code",
      "source": [
        "#Function for getting iProof DNA Polymerase Results \n",
        "#PCR protocol \"https://www.bio-rad.com/webroot/web/pdf/lsr/literature/10002298B.pdf\"\n",
        "\n",
        "\n",
        "\n",
        "\n",
        "def iProofAnalyzer (pcr): \n",
        "  \"\"\"\n",
        "  Acquires iProof DNA Polymerase Results \n",
        "\n",
        "  Parameters: \n",
        "  ----------\n",
        "  a pcr object (contains gene seq, f primer, and r primer)\n",
        "\n",
        "  Returns: \n",
        "  ----------\n",
        "  extension timev : int\n",
        "  enzyme amounts and cost : Pandas Dataframe\n",
        "\n",
        "  \"\"\"\n",
        "  #Gene length and elongation time\n",
        "  #For iProof, extension time depends on the type of template DNA \n",
        "  #Protocol recommends 15 sec per kb if plasmid, and 30 sec per kb if genomic\n",
        "\n",
        "  gene_length = len(pcr.sequence)\n",
        "  if pcr.template_type == \"plasmid\" or pcr.template_type == \"lambda\" or pcr.template_type == \"BAC DNA\": \n",
        "    extension_time_seconds = (gene_length/1000)*15\n",
        "    extension_time_minutes = extension_time_seconds/60 \n",
        "  elif pcr.template_type == \"genomic\": \n",
        "    extension_time_seconds = (gene_length/1000)*30 # should this be 30 ?\n",
        "    extension_time_minutes = extension_time_seconds/60 \n",
        "\n",
        "  #Enzyme \n",
        "  #iProof can range from 0.5-2 units per 50mL \n",
        "  #Chose the 4 most common PCR volumes. With a higher volume you get more PCR product \n",
        "  \n",
        "  import pandas as pd\n",
        "\n",
        "  enzyme_dict = {\"20 uL\": [], \"20 uL Cost\" : [], \"50 uL\": [], \"50 uL Cost\" : [], \"100 uL\" : [], \n",
        "               \"100 uL Cost\": [], \"200 uL\" : [], \"200 uL Cost\" : []} # Store cost for each volume\n",
        "\n",
        "  for volume in [20,50,100,200]: \n",
        "    for level in [\"low\", \"medium\", \"high\"]: \n",
        "      if level == \"low\": \n",
        "        enzyme_dict[str(volume) + \" uL\"].append(0.5*(volume/50)) # whats happpening here i\n",
        "        enzyme_dict[str(volume) + \" uL Cost\"].append(0.5*(volume/50)*1.53)\n",
        "      elif level == \"medium\": \n",
        "        enzyme_dict[str(volume) + \" uL\"].append(1*(volume/50))\n",
        "        enzyme_dict[str(volume) + \" uL Cost\"].append(1*(volume/50)*1.53)\n",
        "      elif level == \"high\": \n",
        "        enzyme_dict[str(volume) + \" uL\"].append(2*(volume/50))\n",
        "        enzyme_dict[str(volume) + \" uL Cost\"].append(2*(volume/50)*1.53)\n",
        "  enzyme_df = pd.DataFrame(enzyme_dict, [\"low\", \"medium\", \"high\"])\n",
        "  \n",
        "\n",
        "  #Primer Annealing Temperature\n",
        "\n",
        "\n",
        "  def iProofprimerChecker (pcr): \n",
        "    if len(pcr.fp) and len(pcr.fp) >= 20: \n",
        "      annealing_temp =  45 # Do we need a funtion the donote the Tm of the primer? --> yes, put it at the top\n",
        "\n",
        "\n",
        "  return enzyme_df ,extension_time_seconds\n",
        "\n",
        "# Tests\n",
        "result = iProofAnalyzer(test)\n",
        "result[1]"
      ],
      "metadata": {
        "id": "IVGirsQcH4SF",
        "colab": {
          "base_uri": "https://localhost:8080/"
        },
        "outputId": "90022b34-cdde-4ea2-e91f-c705a35aef83"
      },
      "execution_count": 73,
      "outputs": [
        {
          "output_type": "execute_result",
          "data": {
            "text/plain": [
              "0.8999999999999999"
            ]
          },
          "metadata": {},
          "execution_count": 73
        }
      ]
    },
    {
      "cell_type": "code",
      "source": [
        "#This one uses SantaLucia experimentally defined values (Recommended by Benchling)\n",
        "#Paper: https://academic.oup.com/bioinformatics/article/21/6/711/199347\n",
        "#https://www.pnas.org/doi/epdf/10.1073/pnas.95.4.1460\n",
        "def meltingTemperature(seq): \n",
        "  \"\"\"\n",
        "  checks primer melting temperature (Tm)\n",
        "  Adapted from Sigma Aldrich protocol: https://www.sigmaaldrich.com/US/en/technical-documents/protocol/genomics/pcr/oligos-melting-temp\n",
        "  Santa Lucia calculations\n",
        "  Tm = temp where 50% of DNA is melted, and 50% of DNA is double stranded\n",
        "\n",
        "  Parameters: \n",
        "  ------------\n",
        "  seq = Primer sequnce as a string\n",
        "\n",
        "  Returns: \n",
        "  ------------\n",
        "  tm : int\n",
        "    DNA melting temperature in degrees celsius\n",
        "\n",
        "  \"\"\"\n",
        "  import math as math \n",
        "  H = 0 \n",
        "  S = 0 \n",
        "\n",
        "  for x in range(0,len(seq)+1): \n",
        "    check = str(seq[x:x+2]).lower()\n",
        " \n",
        "    if check == \"aa\" or check  == \"tt\": \n",
        "      H += -7.9\n",
        "      S += -0.0222\n",
        "\n",
        "    elif check == \"at\": \n",
        "      H += -7.2\n",
        "      S += -0.0204\n",
        "\n",
        "    elif check == \"ta\": \n",
        "      H += -7.2\n",
        "      S += -0.0213\n",
        "\n",
        "    elif check == \"ca\" or check == \"tg\": \n",
        "      H += -8.5\n",
        "      S += -0.0227\n",
        "\n",
        "    elif check == \"gt\" or check == \"ac\": \n",
        "      H += -8.4\n",
        "      S += -0.0224\n",
        "\n",
        "    elif check == \"ct\" or check == \"ag\": \n",
        "      H += -7.8\n",
        "      S += -0.0210\n",
        "\n",
        "    elif check == \"ga\" or check == \"tc\": \n",
        "      H += -8.2 \n",
        "      S += -0.0222\n",
        "\n",
        "    elif check == \"cg\": \n",
        "      H += -10.6\n",
        "      S += -0.0272\n",
        "\n",
        "    elif check == \"gc\": \n",
        "      H += -9.8\n",
        "      S += -0.0244\n",
        "\n",
        "    elif check == \"gg\" or check == \"cc\": \n",
        "      H += -8.0\n",
        "      S += -0.0199\n",
        "\n",
        "  tm = (H/(-0.0108+S+0.00199*math.log(0.0000005))-273.15)\n",
        "  return tm\n",
        "\n",
        "#Test: \n",
        "meltingTemperature(\"atggagacagacacactcctgctatgg\")"
      ],
      "metadata": {
        "colab": {
          "base_uri": "https://localhost:8080/"
        },
        "id": "HrJCtPfx9y8d",
        "outputId": "d2213b34-9231-4b74-e8c3-4ea3e84e01bb"
      },
      "execution_count": 63,
      "outputs": [
        {
          "output_type": "execute_result",
          "data": {
            "text/plain": [
              "76.65960296875772"
            ]
          },
          "metadata": {},
          "execution_count": 63
        }
      ]
    },
    {
      "cell_type": "code",
      "source": [
        "# Phusion® High-Fidelity DNA Polymerase "
      ],
      "metadata": {
        "id": "nMamRJ050Spq"
      },
      "execution_count": 64,
      "outputs": []
    },
    {
      "cell_type": "markdown",
      "source": [
        "## Code Testing Playground!"
      ],
      "metadata": {
        "id": "SOlO_LYgjZyn"
      }
    },
    {
      "cell_type": "markdown",
      "source": [
        "WE should look at this site! \"https://pydna.readthedocs.io/\""
      ],
      "metadata": {
        "id": "Xl-VtxNKrWrX"
      }
    },
    {
      "cell_type": "code",
      "source": [
        "!pip install pydna"
      ],
      "metadata": {
        "id": "B1NTdwqeGHRF"
      },
      "execution_count": null,
      "outputs": []
    },
    {
      "cell_type": "code",
      "source": [
        "import pydna as pdna\n",
        "temp = pdna.tm()"
      ],
      "metadata": {
        "colab": {
          "base_uri": "https://localhost:8080/",
          "height": 182
        },
        "id": "-Tw37wkrGN1f",
        "outputId": "7b3f4914-5335-4dfd-ff4b-3b09b270c479"
      },
      "execution_count": 77,
      "outputs": [
        {
          "output_type": "error",
          "ename": "AttributeError",
          "evalue": "ignored",
          "traceback": [
            "\u001b[0;31m---------------------------------------------------------------------------\u001b[0m",
            "\u001b[0;31mAttributeError\u001b[0m                            Traceback (most recent call last)",
            "\u001b[0;32m<ipython-input-77-81ef83a73fa7>\u001b[0m in \u001b[0;36m<module>\u001b[0;34m\u001b[0m\n\u001b[1;32m      1\u001b[0m \u001b[0;32mimport\u001b[0m \u001b[0mpydna\u001b[0m \u001b[0;32mas\u001b[0m \u001b[0mpdna\u001b[0m\u001b[0;34m\u001b[0m\u001b[0;34m\u001b[0m\u001b[0m\n\u001b[0;32m----> 2\u001b[0;31m \u001b[0mtemp\u001b[0m \u001b[0;34m=\u001b[0m \u001b[0mpdna\u001b[0m\u001b[0;34m.\u001b[0m\u001b[0mtm\u001b[0m\u001b[0;34m(\u001b[0m\u001b[0;34m)\u001b[0m\u001b[0;34m\u001b[0m\u001b[0;34m\u001b[0m\u001b[0m\n\u001b[0m",
            "\u001b[0;31mAttributeError\u001b[0m: module 'pydna' has no attribute 'tm'"
          ]
        }
      ]
    },
    {
      "cell_type": "code",
      "source": [
        "import pandas as pd\n",
        "\n",
        "enzyme_dict = {\"20 uL\": [], \"20 uL Cost\" : [], \"50 uL\": [], \"50 uL Cost\" : [], \"100 uL\" : [], \n",
        "              \"100 uL Cost\": [], \"200 uL\" : [], \"200 uL Cost\" : []}\n",
        "\n",
        "for volume in [20,50,100,200]: \n",
        "  for level in [\"low\", \"medium\", \"high\"]: \n",
        "    if level == \"low\": \n",
        "      enzyme_dict[str(volume) + \" uL\"].append(0.5*(volume/50))\n",
        "      enzyme_dict[str(volume) + \" uL Cost\"].append(0.5*(volume/50)*1.53)\n",
        "    elif level == \"medium\": \n",
        "      enzyme_dict[str(volume) + \" uL\"].append(1*(volume/50))\n",
        "      enzyme_dict[str(volume) + \" uL Cost\"].append(1*(volume/50)*1.53)\n",
        "    elif level == \"high\": \n",
        "      enzyme_dict[str(volume) + \" uL\"].append(2*(volume/50))\n",
        "      enzyme_dict[str(volume) + \" uL Cost\"].append(2*(volume/50)*1.53)\n",
        "      \n",
        "enzyme_df = pd.DataFrame(enzyme_dict, [\"low\", \"medium\", \"high\"])"
      ],
      "metadata": {
        "id": "10qeiFwObQph"
      },
      "execution_count": 68,
      "outputs": []
    },
    {
      "cell_type": "code",
      "source": [
        "enzyme_dict = {20: [], 50: [], 100 : [], 200 : []}\n",
        "for volume in [20,50,100,200]: \n",
        "  low = 0.5*(volume/50)\n",
        "  medium = 1*(volume/50)\n",
        "  high = 2*(volume/50)\n",
        "  enzyme_dict[volume].append(low)\n",
        "  enzyme_dict[volume].append(medium)\n",
        "  enzyme_dict[volume].append(high)"
      ],
      "metadata": {
        "id": "m3PJ6ASWevYC"
      },
      "execution_count": 69,
      "outputs": []
    },
    {
      "cell_type": "code",
      "source": [
        "def meltingTemperature(seq): \n",
        "  \"\"\"\n",
        "  checks primer melting temperature (Tm)\n",
        "  Adapted from Sigma Aldrich protocol: https://www.sigmaaldrich.com/US/en/technical-documents/protocol/genomics/pcr/oligos-melting-temp\n",
        "  Tm = temp where 50% of DNA is melted, and 50% of DNA is double stranded\n",
        "\n",
        "  Parameters: \n",
        "  ------------\n",
        "  seq = Primer sequnce as a string\n",
        "\n",
        "  Returns: \n",
        "  ------------\n",
        "  DNA melting temperature in degrees celsius\n",
        "\n",
        "  \"\"\"\n",
        "  import math as math \n",
        "  H = 0 \n",
        "  S = 0 \n",
        "\n",
        "  for x in range(0,len(seq)+1): \n",
        "    check = str(seq[x:x+2]).lower()\n",
        " \n",
        "    if check == \"aa\" or check  == \"tt\": \n",
        "      H += -9.1\n",
        "      S += -0.0240\n",
        "\n",
        "    elif check == \"at\": \n",
        "      H += -8.6\n",
        "      S += -0.0239\n",
        "\n",
        "    elif check == \"ta\": \n",
        "      H += -6.0\n",
        "      S += -0.0169\n",
        "\n",
        "    elif check == \"ca\" or check == \"tg\": \n",
        "      H += -5.8\n",
        "      S += -0.0129\n",
        "\n",
        "    elif check == \"gt\" or check == \"ac\": \n",
        "      H += -6.5 \n",
        "      S += -0.0173\n",
        "\n",
        "    elif check == \"ct\" or check == \"ag\": \n",
        "      H += -7.8 \n",
        "      S += -0.0208\n",
        "\n",
        "    elif check == \"ga\" or check == \"tc\": \n",
        "      H += -5.6 \n",
        "      S += -0.0135\n",
        "\n",
        "    elif check == \"cg\": \n",
        "      H += -11.9\n",
        "      S += -0.0278\n",
        "\n",
        "    elif check == \"gc\": \n",
        "      H += -11.1\n",
        "      S += -0.0267\n",
        "\n",
        "    elif check == \"gg\" or check == \"cc\": \n",
        "      H += -11.0\n",
        "      S += -0.0266\n",
        "\n",
        "  tm = (H/(-0.0108+S+0.00199*math.log(0.0000005/4)))-273.15+16.6*math.log10(0.05)\n",
        "  return tm"
      ],
      "metadata": {
        "id": "DCulJBEzKra9"
      },
      "execution_count": 70,
      "outputs": []
    },
    {
      "cell_type": "code",
      "source": [
        "print(meltingTemperature(\"AAAAACCCCCGGGGGTTTTT\"))"
      ],
      "metadata": {
        "colab": {
          "base_uri": "https://localhost:8080/"
        },
        "id": "cNAJIMiN2XYp",
        "outputId": "6738642b-2f26-46fb-a27a-6e8aa62f61f2"
      },
      "execution_count": 71,
      "outputs": [
        {
          "output_type": "stream",
          "name": "stdout",
          "text": [
            "69.63422211409431\n"
          ]
        }
      ]
    },
    {
      "cell_type": "code",
      "source": [
        "seq = \"AAAAACCCCCGGGGGTTTTT\"\n",
        "print (seq[19:22])\n",
        "seq = seq.lower()\n",
        "H = 0\n",
        "S = 0 \n",
        "\n",
        "for x in range(0,len(seq)+1): \n",
        "  check = str(seq[x:x+2])\n",
        "\n",
        "  if check == \"aa\" or check  == \"tt\": \n",
        "    H += -9.1\n",
        "    S += -0.0240\n",
        "    print(-9.1)\n",
        "  elif check == \"at\": \n",
        "    H += -8.6\n",
        "    S += -0.0239\n",
        "    print(-8.6)\n",
        "  elif check == \"ta\": \n",
        "    H += -6.0\n",
        "    S += -0.0169\n",
        "    print(-6.0)\n",
        "  elif check == \"ca\" or check == \"tg\": \n",
        "    H += -5.8\n",
        "    S += -0.0129\n",
        "    print(-5.8)\n",
        "  elif check == \"gt\" or check == \"ac\": \n",
        "    H += -6.5 \n",
        "    S += -0.0173\n",
        "    print(-6.5)\n",
        "  elif check == \"ct\" or check == \"ag\": \n",
        "    H += -7.8 \n",
        "    S += -0.0208\n",
        "    print(-7.8)\n",
        "  elif check == \"ga\" or check == \"tc\": \n",
        "    H += -5.6 \n",
        "    S += -0.0135\n",
        "    print(-5.6)\n",
        "  elif check == \"cg\": \n",
        "    H += -11.9\n",
        "    S += -0.0278\n",
        "    print(-11.9)\n",
        "  elif check == \"gc\": \n",
        "    H += -11.1\n",
        "    S += -0.0267\n",
        "    print(-11.1)\n",
        "  elif check == \"gg\" or check == \"cc\": \n",
        "    H += -11.0\n",
        "    S += -0.0266\n",
        "    print(-11.0)\n",
        "\n",
        "  #print(check)\n",
        "  #print(H)\n",
        "\n",
        "tm = (H/(-0.0108+S+0.001987*math.log(0.0000005/4)))-273.15+16.6*math.log10(0.05)\n",
        "print(H)\n",
        "print(S)\n",
        "print(tm)"
      ],
      "metadata": {
        "id": "TTqOWY0kgT4q"
      },
      "execution_count": null,
      "outputs": []
    },
    {
      "cell_type": "code",
      "source": [
        "meltingTemperature(\"aagtccgtt\")"
      ],
      "metadata": {
        "id": "R7V8U2g-POkr"
      },
      "execution_count": null,
      "outputs": []
    },
    {
      "cell_type": "code",
      "source": [],
      "metadata": {
        "id": "RG2xAS2kPT-7"
      },
      "execution_count": null,
      "outputs": []
    },
    {
      "cell_type": "markdown",
      "source": [
        "## Class Creation"
      ],
      "metadata": {
        "id": "DLP-Djh3YP9y"
      }
    },
    {
      "cell_type": "code",
      "source": [
        "class pcr(object): \n",
        "  def __init__ (self, gene, forward_primer, reverse_primer, template_type = \"plasmid\", enzymes = [], factor = \"cost\"): \n",
        "    self.sequence = gene\n",
        "    self.length = len(gene)\n",
        "    self.factor = factor\n",
        "    self.template_type = template_type\n",
        "    self.fp = forward_primer\n",
        "    self.rp = reverse_primer\n",
        "\n",
        "  def countDNAbase(gene): \n",
        "    \"\"\"\n",
        "    Counts the number of each DNA base present in a sequence\n",
        "\n",
        "    Parameters\n",
        "    ----------\n",
        "    dna: input gene \n",
        "\n",
        "    Returns\n",
        "    ----------\n",
        "    The number of each base \n",
        "    GC content : str\n",
        "\n",
        "    \"\"\"\n",
        "    a_count = 0\n",
        "    c_count = 0\n",
        "    g_count = 0\n",
        "    t_count = 0\n",
        "    for char in gene: \n",
        "      if char == \"a\": \n",
        "        a_count += 1 \n",
        "      if char == \"c\": \n",
        "        c_count += 1 \n",
        "      if char == \"g\": \n",
        "        g_count += 1 \n",
        "      if char == \"t\": \n",
        "        t_count += 1\n",
        "    gc_content = 100*(g_count + c_count)/(g_count + c_count + a_count + t_count)\n",
        "    return \"The GC Content is\",gc_content, \"%\"\n",
        "\n",
        "  def checkPrimerGeneCompatability(gene, forward_primer, reverse_primer, startr = 0, stopr = 0 , startf = 0, stopf = 0): \n",
        "    \"\"\"\n",
        "    Check the forward and reverse primer's compatibility to the gene/sequence.\n",
        "    If the start positions are not at the begining on the gene you can enter the \n",
        "    start and stop positions in acordance with Primer-blast\n",
        "    \n",
        "    Parameters\n",
        "    ----------\n",
        "    gene: str\n",
        "    forward_primer: str \n",
        "    reverse_primer: str\n",
        "    startr: int\n",
        "    stopr: int\n",
        "    startf: int\n",
        "    stopf: int\n",
        "    \n",
        "    Returns\n",
        "    -------\n",
        "    A statment on primer compatibility : str\n",
        "    \"\"\"\n",
        "    # Preparing inputs \n",
        "    gene = gene.lower()\n",
        "    forward_primer = forward_primer.lower()\n",
        "    reverse_primer = reverse_primer.lower()\n",
        "\n",
        "    # Create complement squence for comparison with forward_primer\n",
        "    complement = gene.upper().replace(\"A\", \"t\").replace(\"C\", \"g\").replace(\"T\", \"a\").replace(\"G\", \"c\")\n",
        "\n",
        "    # Locating the start and stop pointsoption\n",
        "    if startr == 0 and stopr == 0:\n",
        "      gene_reverse = gene[-len(reverse_primer):]\n",
        "    else:\n",
        "      gene_reverse = gene[stopr-1:startr]\n",
        "    if startf == 0 and stopf == 0:\n",
        "      gene_forward = complement[:len(forward_primer)]\n",
        "    else:\n",
        "      gene_forward = complement[startf-1:stopf]\n",
        "\n",
        "    # Create gene comparison points\n",
        "    gene_reverse = gene_reverse[::-1] # Reverse Primers are entered in Reverse so this is ment to flip the gene to compare\n",
        "\n",
        "    # Ensure gene and primer compatibility\n",
        "    position_gene = 0\n",
        "    Primer1 = 0\n",
        "    Primer2 = 0\n",
        "    for base_gene in gene_forward:\n",
        "      if base_gene == \"a\" and forward_primer[position_gene] == \"t\":\n",
        "        position_gene += 1\n",
        "        continue\n",
        "      elif base_gene == \"t\" and forward_primer[position_gene] == \"a\":\n",
        "        position_gene += 1\n",
        "        continue\n",
        "      elif base_gene == \"c\" and forward_primer[position_gene] == \"g\":\n",
        "        position_gene += 1\n",
        "        continue\n",
        "      elif base_gene == \"g\" and forward_primer[position_gene] == \"c\":\n",
        "        position_gene += 1\n",
        "        continue\n",
        "      else: \n",
        "        Primer1 = 1\n",
        "        break\n",
        "        \n",
        "    position_gene = 0\n",
        "    for base_gene in gene_reverse:\n",
        "      if base_gene == \"a\" and reverse_primer[position_gene] == \"t\":\n",
        "        position_gene += 1\n",
        "        continue\n",
        "      elif base_gene == \"t\" and reverse_primer[position_gene] == \"a\":\n",
        "        position_gene += 1\n",
        "        continue\n",
        "      elif base_gene == \"c\" and reverse_primer[position_gene] == \"g\":\n",
        "        position_gene += 1\n",
        "        continue\n",
        "      elif base_gene == \"g\" and reverse_primer[position_gene] == \"c\":\n",
        "        position_gene += 1\n",
        "        continue\n",
        "      else: \n",
        "        Primer2 = 1\n",
        "        break\n",
        "        \n",
        "    if Primer1 + Primer2 == 2:\n",
        "      return (\"Both Primers and gene are incompatible\")\n",
        "    elif Primer1 == 1:\n",
        "      return (\"Forward Primer and gene are incompatible\")   \n",
        "    elif Primer2 == 1:\n",
        "      return (\"Reverse Primer and gene are incompatible\")\n",
        "    else:\n",
        "      return (\"Primers and Gene are compatible\")\n",
        "\n",
        "  def meltingTemperaturePhusion(seq): \n",
        "    \"\"\"\n",
        "    checks primer melting temperature (Tm)\n",
        "    Adapted from Sigma Aldrich protocol: https://www.sigmaaldrich.com/US/en/technical-documents/protocol/genomics/pcr/oligos-melting-temp\n",
        "    Santa Lucia calculations\n",
        "    Tm = temp where 50% of DNA is melted, and 50% of DNA is double stranded\n",
        "\n",
        "    Parameters: \n",
        "    ------------\n",
        "    seq : Primer sequnce as a string\n",
        "\n",
        "    Returns: \n",
        "    ------------\n",
        "    tm : int\n",
        "      DNA melting temperature in degrees celsius\n",
        "\n",
        "    \"\"\"\n",
        "    import math as math \n",
        "    H = 0 \n",
        "    S = 0 \n",
        "\n",
        "    for x in range(0,len(seq)+1): \n",
        "      check = str(seq[x:x+2]).lower()\n",
        "  \n",
        "      if check == \"aa\" or check  == \"tt\": \n",
        "        H += -9.1\n",
        "        S += -0.0240\n",
        "\n",
        "      elif check == \"at\": \n",
        "        H += -8.6\n",
        "        S += -0.0239\n",
        "\n",
        "      elif check == \"ta\": \n",
        "        H += -6.0\n",
        "        S += -0.0169\n",
        "\n",
        "      elif check == \"ca\" or check == \"tg\": \n",
        "        H += -5.8\n",
        "        S += -0.0129\n",
        "\n",
        "      elif check == \"gt\" or check == \"ac\": \n",
        "        H += -6.5 \n",
        "        S += -0.0173\n",
        "\n",
        "      elif check == \"ct\" or check == \"ag\": \n",
        "        H += -7.8 \n",
        "        S += -0.0208\n",
        "\n",
        "      elif check == \"ga\" or check == \"tc\": \n",
        "        H += -5.6 \n",
        "        S += -0.0135\n",
        "\n",
        "      elif check == \"cg\": \n",
        "        H += -11.9\n",
        "        S += -0.0278\n",
        "\n",
        "      elif check == \"gc\": \n",
        "        H += -11.1\n",
        "        S += -0.0267\n",
        "\n",
        "      elif check == \"gg\" or check == \"cc\": \n",
        "        H += -11.0\n",
        "        S += -0.0266\n",
        "\n",
        "    tm = (H/(-0.0108+S+0.00199*math.log(0.0000005/4)))-273.15+16.6*math.log10(0.05)\n",
        "    return tm\n"
      ],
      "metadata": {
        "id": "p8BJOJIBYUeQ"
      },
      "execution_count": 81,
      "outputs": []
    }
  ]
}